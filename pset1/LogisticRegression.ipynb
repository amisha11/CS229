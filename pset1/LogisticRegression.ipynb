{
 "cells": [
  {
   "cell_type": "code",
   "execution_count": 106,
   "id": "d5081dce-ed54-4800-a93d-601ca76cc911",
   "metadata": {},
   "outputs": [],
   "source": [
    "import pandas as pd\n",
    "import numpy as np\n",
    "import matplotlib.pyplot as plt\n",
    "\n",
    "\n",
    "from IPython.core.interactiveshell import InteractiveShell \n",
    "InteractiveShell.ast_node_interactivity = \"all\""
   ]
  },
  {
   "cell_type": "code",
   "execution_count": 107,
   "id": "be7552a9-6445-45f8-89f3-bfeaceffccbf",
   "metadata": {},
   "outputs": [],
   "source": [
    "# engine specified to supress \"'c' engine does not support regex separators\" warning\n",
    "inputs = pd.read_csv('C:/Users/abcd/Desktop/ML to-dos/CS229/Problem sets/pset1_data/logistic_x.txt', delimiter='\\ +', header=None, engine='python')\n",
    "outputs = pd.read_csv('C:/Users/abcd/Desktop/ML to-dos/CS229/Problem sets/pset1_data/logistic_y.txt', delimiter='\\ +', header=None, engine='python')"
   ]
  },
  {
   "cell_type": "code",
   "execution_count": 108,
   "id": "1bc02d0e-6c0b-4386-bee2-8898f3c3a192",
   "metadata": {},
   "outputs": [
    {
     "data": {
      "text/html": [
       "<div>\n",
       "<style scoped>\n",
       "    .dataframe tbody tr th:only-of-type {\n",
       "        vertical-align: middle;\n",
       "    }\n",
       "\n",
       "    .dataframe tbody tr th {\n",
       "        vertical-align: top;\n",
       "    }\n",
       "\n",
       "    .dataframe thead th {\n",
       "        text-align: right;\n",
       "    }\n",
       "</style>\n",
       "<table border=\"1\" class=\"dataframe\">\n",
       "  <thead>\n",
       "    <tr style=\"text-align: right;\">\n",
       "      <th></th>\n",
       "      <th>0</th>\n",
       "      <th>1</th>\n",
       "    </tr>\n",
       "  </thead>\n",
       "  <tbody>\n",
       "    <tr>\n",
       "      <th>count</th>\n",
       "      <td>99.000000</td>\n",
       "      <td>99.000000</td>\n",
       "    </tr>\n",
       "    <tr>\n",
       "      <th>mean</th>\n",
       "      <td>3.923295</td>\n",
       "      <td>-0.349697</td>\n",
       "    </tr>\n",
       "    <tr>\n",
       "      <th>std</th>\n",
       "      <td>1.929964</td>\n",
       "      <td>1.771731</td>\n",
       "    </tr>\n",
       "    <tr>\n",
       "      <th>min</th>\n",
       "      <td>0.570799</td>\n",
       "      <td>-4.006504</td>\n",
       "    </tr>\n",
       "    <tr>\n",
       "      <th>25%</th>\n",
       "      <td>2.253922</td>\n",
       "      <td>-1.690592</td>\n",
       "    </tr>\n",
       "    <tr>\n",
       "      <th>50%</th>\n",
       "      <td>3.717708</td>\n",
       "      <td>-0.219744</td>\n",
       "    </tr>\n",
       "    <tr>\n",
       "      <th>75%</th>\n",
       "      <td>5.600951</td>\n",
       "      <td>1.110637</td>\n",
       "    </tr>\n",
       "    <tr>\n",
       "      <th>max</th>\n",
       "      <td>7.705401</td>\n",
       "      <td>3.812866</td>\n",
       "    </tr>\n",
       "  </tbody>\n",
       "</table>\n",
       "</div>"
      ],
      "text/plain": [
       "               0          1\n",
       "count  99.000000  99.000000\n",
       "mean    3.923295  -0.349697\n",
       "std     1.929964   1.771731\n",
       "min     0.570799  -4.006504\n",
       "25%     2.253922  -1.690592\n",
       "50%     3.717708  -0.219744\n",
       "75%     5.600951   1.110637\n",
       "max     7.705401   3.812866"
      ]
     },
     "execution_count": 108,
     "metadata": {},
     "output_type": "execute_result"
    },
    {
     "data": {
      "text/plain": [
       "(99, 2)"
      ]
     },
     "execution_count": 108,
     "metadata": {},
     "output_type": "execute_result"
    },
    {
     "data": {
      "text/html": [
       "<div>\n",
       "<style scoped>\n",
       "    .dataframe tbody tr th:only-of-type {\n",
       "        vertical-align: middle;\n",
       "    }\n",
       "\n",
       "    .dataframe tbody tr th {\n",
       "        vertical-align: top;\n",
       "    }\n",
       "\n",
       "    .dataframe thead th {\n",
       "        text-align: right;\n",
       "    }\n",
       "</style>\n",
       "<table border=\"1\" class=\"dataframe\">\n",
       "  <thead>\n",
       "    <tr style=\"text-align: right;\">\n",
       "      <th></th>\n",
       "      <th>0</th>\n",
       "      <th>1</th>\n",
       "      <th>label</th>\n",
       "    </tr>\n",
       "  </thead>\n",
       "  <tbody>\n",
       "    <tr>\n",
       "      <th>0</th>\n",
       "      <td>1.343250</td>\n",
       "      <td>-1.331148</td>\n",
       "      <td>-1</td>\n",
       "    </tr>\n",
       "    <tr>\n",
       "      <th>1</th>\n",
       "      <td>1.820553</td>\n",
       "      <td>-0.634668</td>\n",
       "      <td>-1</td>\n",
       "    </tr>\n",
       "    <tr>\n",
       "      <th>2</th>\n",
       "      <td>0.986321</td>\n",
       "      <td>-1.888576</td>\n",
       "      <td>-1</td>\n",
       "    </tr>\n",
       "    <tr>\n",
       "      <th>3</th>\n",
       "      <td>1.944373</td>\n",
       "      <td>-1.635452</td>\n",
       "      <td>-1</td>\n",
       "    </tr>\n",
       "    <tr>\n",
       "      <th>4</th>\n",
       "      <td>0.976734</td>\n",
       "      <td>-1.353315</td>\n",
       "      <td>-1</td>\n",
       "    </tr>\n",
       "  </tbody>\n",
       "</table>\n",
       "</div>"
      ],
      "text/plain": [
       "          0         1  label\n",
       "0  1.343250 -1.331148     -1\n",
       "1  1.820553 -0.634668     -1\n",
       "2  0.986321 -1.888576     -1\n",
       "3  1.944373 -1.635452     -1\n",
       "4  0.976734 -1.353315     -1"
      ]
     },
     "execution_count": 108,
     "metadata": {},
     "output_type": "execute_result"
    }
   ],
   "source": [
    "inputs.describe()\n",
    "#outputs.describe()\n",
    "inputs.shape\n",
    "inputs['label'] = outputs.astype({0: 'int32'})[0].values\n",
    "inputs.head()"
   ]
  },
  {
   "cell_type": "markdown",
   "id": "0f90d8e1-09ac-407b-be6f-a5eead6f2e57",
   "metadata": {},
   "source": [
    "#### Newton-Raphson method:\n",
    "Generalisation of Newton's method for vector-valued $\\theta$\n",
    "<p style=\"text-align: center;\"> \n",
    "    $\\theta : \\theta - H^{-1}\\nabla_{\\theta}J(\\theta)$ <br/>\n",
    "\n",
    "</p>\n",
    "\n",
    "Nabla:\n",
    "<p style=\"text-align: center;\"> \n",
    "    $\\frac{\\partial{J}}{\\partial{\\theta_{i}}} = \\frac{1}{m} \\Sigma_{k=1}^{m}(g(z) - 1)y^{(k)}x^{(k)}_{i}$\n",
    "</p>\n",
    "\n",
    "Hessian:\n",
    "<p style=\"text-align: center;\"> \n",
    "    $H_{ij} = \\frac{1}{m} \\Sigma_{k=1}^{m}(g(z))(1 - g(z))y^{(k)}x^{(k)}_{j}y^{(k)}x^{(k)}_{i}$ <br/>\n",
    "</p>\n",
    "<br/>\n",
    "Since it's a binary class problem, such that $y^{(k)} \\epsilon \\, \\{-1 , 1\\}$ <br/>\n",
    "<p style=\"text-align: center;\"> <br/>\n",
    "    $H_{ij} = \\frac{1}{m} \\Sigma_{k=1}^{m}(g(z))(1 - g(z))x^{(k)}_{j}x^{(k)}_{i}$ <br/>\n",
    "</p>\n",
    "where <br/>\n",
    "<p style=\"text-align: center;\"> \n",
    "    $g(z) = \\frac{1}{1 + e^{-z}}$ <br/><br/>\n",
    "    $z^{(k)} = y^{(k)}\\theta^{T}x^{(k)}$ \n",
    "</p>"
   ]
  },
  {
   "cell_type": "code",
   "execution_count": 109,
   "id": "cf3b0ac7-5ba1-4472-b9fc-251676079eb9",
   "metadata": {},
   "outputs": [],
   "source": [
    "# create an array of features with x0 for intercept\n",
    "X = inputs[[0, 1]].values\n",
    "X = np.hstack((np.ones((X.shape[0], 1), dtype=int), X))\n",
    "\n",
    "y = outputs[0].values"
   ]
  },
  {
   "cell_type": "code",
   "execution_count": 112,
   "id": "1a2ab861-3a14-4a09-a3dc-d22fa727279b",
   "metadata": {},
   "outputs": [
    {
     "name": "stdout",
     "output_type": "stream",
     "text": [
      "Converged after 7 iterations\n"
     ]
    }
   ],
   "source": [
    "iterations = 0\n",
    "MIN_TOLERANCE_REQD = 1e-10\n",
    "tolerance = 1e10\n",
    "n = X.shape[1]\n",
    "theta = np.zeros(n)\n",
    "\n",
    "while tolerance > MIN_TOLERANCE_REQD:\n",
    "    iterations += 1\n",
    "    zs = np.multiply(y, (theta @ X.T))\n",
    "    gs = 1 / (1 + np.exp(-zs))\n",
    "    # elemen-twise product and mean along the row\n",
    "    nabla = np.mean((gs - 1) * y * X.T, axis=1)\n",
    "    \n",
    "    hessian = np.zeros((n, n))\n",
    "    for i in range(n):\n",
    "        for j in range(i+1):\n",
    "            hessian[i][j] = np.mean(gs * (1 - gs) * X[:,j] * X[:,i])\n",
    "            if i != j:\n",
    "                hessian[j][i] = hessian[i][j]\n",
    "                \n",
    "    delta = np.linalg.inv(hessian) @ nabla\n",
    "    #deep copy theta before updating\n",
    "    prevTheta = theta.copy()\n",
    "    theta -= delta\n",
    "    tolerance = np.sum(np.abs(theta - prevTheta))\n",
    "    \n",
    "print(f\"Converged after {iterations} iterations\")"
   ]
  },
  {
   "cell_type": "code",
   "execution_count": 113,
   "id": "53a84c5d-aa53-4d49-a454-ea6f6d804f9c",
   "metadata": {},
   "outputs": [],
   "source": [
    "# Scatter plot of the classes as per features x1 and x2\n",
    "# fig, ax = plt.subplots(figsize=(5,5))\n",
    "# plt.scatter(inputs[0].values, inputs[1].values, c=outputs.astype({0: 'int32'})[0].values, cmap = 'rainbow')\n",
    "# ax.set_title('Sactter of labels')\n",
    "# ax.set_xlabel('x1')\n",
    "# ax.set_ylabel('x2')\n",
    "# plt.show();"
   ]
  },
  {
   "cell_type": "code",
   "execution_count": 114,
   "id": "b83a1a09-e16b-444c-8c47-82ea4acf056a",
   "metadata": {},
   "outputs": [
    {
     "data": {
      "image/png": "[encoded data removed]",
      "text/plain": [
       "<Figure size 432x288 with 1 Axes>"
      ]
     },
     "metadata": {
      "needs_background": "light"
     },
     "output_type": "display_data"
    }
   ],
   "source": [
    "ax = plt.axes()\n",
    "\n",
    "inputs.query('label == -1').plot.scatter(x=0, y=1, ax=ax, color='m')\n",
    "inputs.query('label == 1').plot.scatter(x=0, y=1, ax=ax, color='c')\n",
    "\n",
    "x1_vector = np.linspace(np.min(X[:,1]), np.max(X[:,1]), 5)\n",
    "y_vector = (theta[0] + theta[1] * x1_vector) / (- theta[2])\n",
    "plt.plot(x1_vector, y_vector)\n",
    "plt.show();"
   ]
  },
  {
   "cell_type": "code",
   "execution_count": null,
   "id": "7cc3a74d-3f9e-4f58-8213-f44bdaf264ca",
   "metadata": {},
   "outputs": [],
   "source": []
  }
 ],
 "metadata": {
  "kernelspec": {
   "display_name": "Python 3",
   "language": "python",
   "name": "python3"
  },
  "language_info": {
   "codemirror_mode": {
    "name": "ipython",
    "version": 3
   },
   "file_extension": ".py",
   "mimetype": "text/x-python",
   "name": "python",
   "nbconvert_exporter": "python",
   "pygments_lexer": "ipython3",
   "version": "3.8.8"
  }
 },
 "nbformat": 4,
 "nbformat_minor": 5
}
